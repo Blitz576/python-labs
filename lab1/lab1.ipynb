{
 "cells": [
  {
   "cell_type": "code",
   "execution_count": 2,
   "id": "initial_id",
   "metadata": {
    "collapsed": true,
    "ExecuteTime": {
     "end_time": "2024-03-28T20:53:43.024852Z",
     "start_time": "2024-03-28T20:53:43.019141Z"
    }
   },
   "outputs": [
    {
     "name": "stdout",
     "output_type": "stream",
     "text": [
      "20\n"
     ]
    }
   ],
   "source": [
    "#counting vowels\n",
    "message = \"Hello World This message here is from iti and we all support ghaza!\"\n",
    "message = message.lower()\n",
    "vowels=list(['a','e','i','o','u'])\n",
    "cnt=0\n",
    "for vowel in vowels:\n",
    "    cnt+=(message.count(vowel))\n",
    "\n",
    "print(cnt);    "
   ]
  },
  {
   "cell_type": "code",
   "outputs": [
    {
     "name": "stdout",
     "output_type": "stream",
     "text": [
      "before sorting: \n",
      "[47, 83, 22, 56, 91, 14, 68, 37, 75, 19]\n",
      "after sorting: \n",
      "[14, 19, 22, 37, 47, 56, 68, 75, 83, 91]\n",
      "after reverse: \n",
      "[91, 83, 75, 68, 56, 47, 37, 22, 19, 14]\n"
     ]
    }
   ],
   "source": [
    "#sort numbers\n",
    "numbers = [47, 83, 22, 56, 91, 14, 68, 37, 75, 19]\n",
    "\n",
    "print(\"before sorting: \");\n",
    "print(numbers);\n",
    "#Assending\n",
    "numbers.sort()\n",
    "print(\"after sorting: \");\n",
    "print(numbers);\n",
    "#Dessending\n",
    "numbers.sort(reverse=True);\n",
    "print(\"after reverse: \");\n",
    "print(numbers);"
   ],
   "metadata": {
    "collapsed": false,
    "ExecuteTime": {
     "end_time": "2024-03-28T15:34:53.594690Z",
     "start_time": "2024-03-28T15:34:53.581845Z"
    }
   },
   "id": "9175bb1a0cde75cd",
   "execution_count": 6
  },
  {
   "cell_type": "code",
   "outputs": [
    {
     "name": "stdout",
     "output_type": "stream",
     "text": [
      "1\n"
     ]
    }
   ],
   "source": [
    "#counting iti\n",
    "message=input(\"Enter a message to count iti\").split()\n",
    "#validation\n",
    "for str in message:\n",
    "    if not str.isalpha():\n",
    "        print (\"Please enter a valid message\");\n",
    "        break;\n",
    "    else:\n",
    "        str= str.lower()\n",
    "else:\n",
    "    print(message.count(\"iti\"))"
   ],
   "metadata": {
    "collapsed": false,
    "ExecuteTime": {
     "end_time": "2024-03-28T21:01:33.575965Z",
     "start_time": "2024-03-28T21:01:28.972021Z"
    }
   },
   "id": "318aed10d0fb4070",
   "execution_count": 5
  },
  {
   "cell_type": "code",
   "outputs": [
    {
     "name": "stdout",
     "output_type": "stream",
     "text": [
      "After Cleaning: hll wrld ths mssg hr s frm t nd w ll spprt ghz!\n"
     ]
    }
   ],
   "source": [
    "#clean string\n",
    "message = \"Hello World This message here is from iti and we all support ghaza!\"\n",
    "\n",
    "vowels=list(['a','e','i','o','u'])\n",
    "generated_message=\"\"\n",
    "for letter in message.lower():\n",
    "    if letter not in vowels:\n",
    "        generated_message+=letter\n",
    "\n",
    "print(\"After Cleaning: \" + generated_message)        "
   ],
   "metadata": {
    "collapsed": false,
    "ExecuteTime": {
     "end_time": "2024-03-28T21:01:37.790391Z",
     "start_time": "2024-03-28T21:01:37.784863Z"
    }
   },
   "id": "5ce739a1d50c2308",
   "execution_count": 6
  },
  {
   "cell_type": "code",
   "outputs": [
    {
     "name": "stdout",
     "output_type": "stream",
     "text": [
      "[17, 19, 23, 39]\n"
     ]
    }
   ],
   "source": [
    "message = \"Hello World from iti This message here is from iti\"\n",
    "positions=[]\n",
    "message=message.lower()\n",
    "\n",
    "# iterate on the count of i\n",
    "tries = 0\n",
    "while tries <= message.count(\"i\"):\n",
    "     #push new position\n",
    "     positions.append(message.index(\"i\"))\n",
    "     #erase that index\n",
    "     message = message.replace(\"i\",\"@\",1);\n",
    "     #new try\n",
    "     tries+=1\n",
    "\n",
    "\n",
    "#print all postions of i\n",
    "print(positions);\n"
   ],
   "metadata": {
    "collapsed": false,
    "ExecuteTime": {
     "end_time": "2024-03-28T21:02:32.061691Z",
     "start_time": "2024-03-28T21:02:32.056415Z"
    }
   },
   "id": "30a3a0d4fd490629",
   "execution_count": 7
  },
  {
   "cell_type": "code",
   "outputs": [
    {
     "name": "stdout",
     "output_type": "stream",
     "text": [
      "[[1], [2, 4], [3, 6, 9]]\n"
     ]
    }
   ],
   "source": [
    "#multiblaction table\n",
    "number = input(\"Enter a number\")\n",
    "numbers=[]\n",
    "#validaton\n",
    "if not number.isnumeric():\n",
    "    print (\"Please enter a valid number\");\n",
    "else:\n",
    "    \n",
    "    number=int(number)\n",
    "    iter=1\n",
    "    while iter <= number:\n",
    "        generated_numbers=[]\n",
    "        for num_iter in range(1,iter+1):\n",
    "            generated_numbers.append(num_iter*iter)\n",
    "        numbers.append(generated_numbers)\n",
    "        iter+=1\n",
    "    print(numbers);    "
   ],
   "metadata": {
    "collapsed": false,
    "ExecuteTime": {
     "end_time": "2024-03-28T16:10:46.107122Z",
     "start_time": "2024-03-28T16:10:42.649459Z"
    }
   },
   "id": "fc06100ac68104f9",
   "execution_count": 2
  },
  {
   "cell_type": "code",
   "outputs": [
    {
     "name": "stdout",
     "output_type": "stream",
     "text": [
      "    *\n",
      "   **\n",
      "  ***\n",
      " ****\n"
     ]
    }
   ],
   "source": [
    "#mario pyramid\n",
    "number = input(\"Enter a number\")\n",
    "numbers=[]\n",
    "#validaton\n",
    "if not number.isnumeric():\n",
    "    print (\"Please enter a valid number\");\n",
    "else:\n",
    "    number = int(number)\n",
    "    for line in range(0,number):\n",
    "        print((\" \")*(number-line) + (\"*\")*(line+1));\n",
    "    "
   ],
   "metadata": {
    "collapsed": false,
    "ExecuteTime": {
     "end_time": "2024-03-28T21:03:08.848972Z",
     "start_time": "2024-03-28T21:03:04.150077Z"
    }
   },
   "id": "69b73c1aeb82ecdb",
   "execution_count": 9
  },
  {
   "cell_type": "code",
   "outputs": [],
   "source": [],
   "metadata": {
    "collapsed": false
   },
   "id": "b65e212e0d600753"
  }
 ],
 "metadata": {
  "kernelspec": {
   "display_name": "Python 3",
   "language": "python",
   "name": "python3"
  },
  "language_info": {
   "codemirror_mode": {
    "name": "ipython",
    "version": 2
   },
   "file_extension": ".py",
   "mimetype": "text/x-python",
   "name": "python",
   "nbconvert_exporter": "python",
   "pygments_lexer": "ipython2",
   "version": "2.7.6"
  }
 },
 "nbformat": 4,
 "nbformat_minor": 5
}
